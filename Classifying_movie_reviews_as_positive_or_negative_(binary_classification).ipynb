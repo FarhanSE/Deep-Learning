{
  "nbformat": 4,
  "nbformat_minor": 0,
  "metadata": {
    "colab": {
      "name": "Classifying movie reviews as positive or negative (binary classification).ipynb",
      "provenance": [],
      "collapsed_sections": []
    },
    "kernelspec": {
      "name": "python3",
      "display_name": "Python 3"
    }
  },
  "cells": [
    {
      "cell_type": "markdown",
      "metadata": {
        "id": "DgtQ0fYCddr1"
      },
      "source": [
        "# **Classifying movie reviews** as positive or negative (binary classification)\r\n"
      ]
    },
    {
      "cell_type": "code",
      "metadata": {
        "id": "C_bEbziBdn89"
      },
      "source": [
        "import tensorflow as tf "
      ],
      "execution_count": 4,
      "outputs": []
    },
    {
      "cell_type": "code",
      "metadata": {
        "id": "xZgNusW_eeuj"
      },
      "source": [
        "from tensorflow.keras.datasets import imdb"
      ],
      "execution_count": 5,
      "outputs": []
    },
    {
      "cell_type": "code",
      "metadata": {
        "colab": {
          "base_uri": "https://localhost:8080/"
        },
        "id": "WxdP6dzkewJ8",
        "outputId": "bddb3248-4d64-4a50-8e7a-568c5c2e12f0"
      },
      "source": [
        "(train_data, train_lables),(test_data, test_lables) = imdb.load_data( num_words=10000)"
      ],
      "execution_count": 6,
      "outputs": [
        {
          "output_type": "stream",
          "text": [
            "<string>:6: VisibleDeprecationWarning: Creating an ndarray from ragged nested sequences (which is a list-or-tuple of lists-or-tuples-or ndarrays with different lengths or shapes) is deprecated. If you meant to do this, you must specify 'dtype=object' when creating the ndarray\n",
            "/usr/local/lib/python3.7/dist-packages/tensorflow/python/keras/datasets/imdb.py:159: VisibleDeprecationWarning: Creating an ndarray from ragged nested sequences (which is a list-or-tuple of lists-or-tuples-or ndarrays with different lengths or shapes) is deprecated. If you meant to do this, you must specify 'dtype=object' when creating the ndarray\n",
            "  x_train, y_train = np.array(xs[:idx]), np.array(labels[:idx])\n",
            "/usr/local/lib/python3.7/dist-packages/tensorflow/python/keras/datasets/imdb.py:160: VisibleDeprecationWarning: Creating an ndarray from ragged nested sequences (which is a list-or-tuple of lists-or-tuples-or ndarrays with different lengths or shapes) is deprecated. If you meant to do this, you must specify 'dtype=object' when creating the ndarray\n",
            "  x_test, y_test = np.array(xs[idx:]), np.array(labels[idx:])\n"
          ],
          "name": "stderr"
        }
      ]
    },
    {
      "cell_type": "code",
      "metadata": {
        "id": "MdsMVM4KfJfs"
      },
      "source": [
        "# train_data[0]"
      ],
      "execution_count": 7,
      "outputs": []
    },
    {
      "cell_type": "code",
      "metadata": {
        "id": "kuRb-cDXfR7p"
      },
      "source": [
        "from tensorflow.keras.utils import to_categorical"
      ],
      "execution_count": 8,
      "outputs": []
    },
    {
      "cell_type": "code",
      "metadata": {
        "id": "2dbIGmNElpr9"
      },
      "source": [
        "# train_data = to_categorical(train_data)\r\n",
        "# test_data = to_categorical(test_data)"
      ],
      "execution_count": 9,
      "outputs": []
    },
    {
      "cell_type": "code",
      "metadata": {
        "id": "cb2nBe82l0Hw"
      },
      "source": [
        "import numpy as np\r\n",
        "def vectorize_sequences(sequences, dimension=10000):\r\n",
        "  results = np.zeros((len(sequences), dimension))\r\n",
        "  for i, sequence in enumerate(sequences):\r\n",
        "    results[i, sequence] = 1.\r\n",
        "  return results\r\n",
        "x_train = vectorize_sequences(train_data)\r\n",
        "x_test = vectorize_sequences(test_data)"
      ],
      "execution_count": 10,
      "outputs": []
    },
    {
      "cell_type": "code",
      "metadata": {
        "id": "EUpjgY5LxdRs"
      },
      "source": [
        "y_train = np.asarray(train_lables).astype('float32')"
      ],
      "execution_count": 11,
      "outputs": []
    },
    {
      "cell_type": "code",
      "metadata": {
        "id": "q96GQVqY0eFL"
      },
      "source": [
        "y_test = np.asarray(test_lables).astype('float32')"
      ],
      "execution_count": 12,
      "outputs": []
    },
    {
      "cell_type": "code",
      "metadata": {
        "id": "eCJXHB4D0l2A"
      },
      "source": [
        "from tensorflow.keras.models import Sequential\r\n",
        "from tensorflow.keras import layers"
      ],
      "execution_count": 13,
      "outputs": []
    },
    {
      "cell_type": "code",
      "metadata": {
        "id": "NChJrP9U0-Ez"
      },
      "source": [
        "network = Sequential()"
      ],
      "execution_count": 14,
      "outputs": []
    },
    {
      "cell_type": "code",
      "metadata": {
        "id": "81902lmX1AXg"
      },
      "source": [
        "network.add(layers.Dense(16, activation='relu', input_shape=(10000,)))\r\n",
        "network.add(layers.Dense(16, activation='relu'))\r\n",
        "network.add(layers.Dense(1, activation='sigmoid'))"
      ],
      "execution_count": 15,
      "outputs": []
    },
    {
      "cell_type": "code",
      "metadata": {
        "id": "6XbTcyFT1xZ8"
      },
      "source": [
        "network.compile(optimizer='rmsprop', loss='binary_crossentropy', metrics='accuracy')"
      ],
      "execution_count": 16,
      "outputs": []
    },
    {
      "cell_type": "markdown",
      "metadata": {
        "id": "bFxl8pS8TT99"
      },
      "source": [
        "# create a validation set"
      ]
    },
    {
      "cell_type": "code",
      "metadata": {
        "id": "jwTaJVUU2NQa"
      },
      "source": [
        "x_val = x_train[:10000]"
      ],
      "execution_count": 17,
      "outputs": []
    },
    {
      "cell_type": "code",
      "metadata": {
        "id": "uCHVnscXTmD0"
      },
      "source": [
        "y_val = y_train[:10000]"
      ],
      "execution_count": 18,
      "outputs": []
    },
    {
      "cell_type": "code",
      "metadata": {
        "colab": {
          "base_uri": "https://localhost:8080/"
        },
        "id": "mPTVI3ZYTtRn",
        "outputId": "45a1246f-0c4e-43e9-8deb-f40d20c7f002"
      },
      "source": [
        "history = network.fit(x_train, y_train, epochs=20, batch_size=500, validation_data=(x_val, y_val))"
      ],
      "execution_count": 19,
      "outputs": [
        {
          "output_type": "stream",
          "text": [
            "Epoch 1/20\n",
            "50/50 [==============================] - 3s 45ms/step - loss: 0.5524 - accuracy: 0.7241 - val_loss: 0.2848 - val_accuracy: 0.9093\n",
            "Epoch 2/20\n",
            "50/50 [==============================] - 2s 32ms/step - loss: 0.2726 - accuracy: 0.9082 - val_loss: 0.1955 - val_accuracy: 0.9397\n",
            "Epoch 3/20\n",
            "50/50 [==============================] - 2s 32ms/step - loss: 0.1968 - accuracy: 0.9308 - val_loss: 0.1624 - val_accuracy: 0.9475\n",
            "Epoch 4/20\n",
            "50/50 [==============================] - 2s 34ms/step - loss: 0.1677 - accuracy: 0.9418 - val_loss: 0.1349 - val_accuracy: 0.9583\n",
            "Epoch 5/20\n",
            "50/50 [==============================] - 2s 33ms/step - loss: 0.1402 - accuracy: 0.9527 - val_loss: 0.1158 - val_accuracy: 0.9655\n",
            "Epoch 6/20\n",
            "50/50 [==============================] - 2s 33ms/step - loss: 0.1164 - accuracy: 0.9604 - val_loss: 0.1011 - val_accuracy: 0.9700\n",
            "Epoch 7/20\n",
            "50/50 [==============================] - 2s 32ms/step - loss: 0.1058 - accuracy: 0.9656 - val_loss: 0.0894 - val_accuracy: 0.9730\n",
            "Epoch 8/20\n",
            "50/50 [==============================] - 2s 32ms/step - loss: 0.0951 - accuracy: 0.9687 - val_loss: 0.0753 - val_accuracy: 0.9792\n",
            "Epoch 9/20\n",
            "50/50 [==============================] - 2s 32ms/step - loss: 0.0808 - accuracy: 0.9743 - val_loss: 0.0663 - val_accuracy: 0.9814\n",
            "Epoch 10/20\n",
            "50/50 [==============================] - 2s 37ms/step - loss: 0.0721 - accuracy: 0.9778 - val_loss: 0.0639 - val_accuracy: 0.9822\n",
            "Epoch 11/20\n",
            "50/50 [==============================] - 2s 34ms/step - loss: 0.0662 - accuracy: 0.9811 - val_loss: 0.0526 - val_accuracy: 0.9868\n",
            "Epoch 12/20\n",
            "50/50 [==============================] - 2s 34ms/step - loss: 0.0541 - accuracy: 0.9854 - val_loss: 0.0440 - val_accuracy: 0.9891\n",
            "Epoch 13/20\n",
            "50/50 [==============================] - 2s 33ms/step - loss: 0.0486 - accuracy: 0.9866 - val_loss: 0.0460 - val_accuracy: 0.9881\n",
            "Epoch 14/20\n",
            "50/50 [==============================] - 2s 33ms/step - loss: 0.0427 - accuracy: 0.9893 - val_loss: 0.0338 - val_accuracy: 0.9922\n",
            "Epoch 15/20\n",
            "50/50 [==============================] - 2s 33ms/step - loss: 0.0358 - accuracy: 0.9911 - val_loss: 0.0281 - val_accuracy: 0.9943\n",
            "Epoch 16/20\n",
            "50/50 [==============================] - 2s 32ms/step - loss: 0.0332 - accuracy: 0.9913 - val_loss: 0.0247 - val_accuracy: 0.9949\n",
            "Epoch 17/20\n",
            "50/50 [==============================] - 2s 33ms/step - loss: 0.0265 - accuracy: 0.9944 - val_loss: 0.0270 - val_accuracy: 0.9943\n",
            "Epoch 18/20\n",
            "50/50 [==============================] - 2s 33ms/step - loss: 0.0249 - accuracy: 0.9939 - val_loss: 0.0167 - val_accuracy: 0.9969\n",
            "Epoch 19/20\n",
            "50/50 [==============================] - 2s 32ms/step - loss: 0.0208 - accuracy: 0.9955 - val_loss: 0.0135 - val_accuracy: 0.9978\n",
            "Epoch 20/20\n",
            "50/50 [==============================] - 2s 34ms/step - loss: 0.0160 - accuracy: 0.9966 - val_loss: 0.0112 - val_accuracy: 0.9987\n"
          ],
          "name": "stdout"
        }
      ]
    },
    {
      "cell_type": "code",
      "metadata": {
        "id": "fq_GsKb2UicQ"
      },
      "source": [
        "history_dict = history.history"
      ],
      "execution_count": 20,
      "outputs": []
    },
    {
      "cell_type": "code",
      "metadata": {
        "colab": {
          "base_uri": "https://localhost:8080/"
        },
        "id": "5UFTTV3HU_O6",
        "outputId": "b511b673-23cb-4346-a22e-2e2fedf95b62"
      },
      "source": [
        "history_dict.keys()"
      ],
      "execution_count": 21,
      "outputs": [
        {
          "output_type": "execute_result",
          "data": {
            "text/plain": [
              "dict_keys(['loss', 'accuracy', 'val_loss', 'val_accuracy'])"
            ]
          },
          "metadata": {
            "tags": []
          },
          "execution_count": 21
        }
      ]
    },
    {
      "cell_type": "code",
      "metadata": {
        "id": "BK4w0PwUVCL2"
      },
      "source": [
        "model = Sequential()\r\n",
        "model.add(layers.Dense(40, activation='relu', input_shape=(10000,)))\r\n",
        "model.add(layers.Dense(20, activation='relu'))\r\n",
        "model.add(layers.Dense(1, activation='sigmoid'))"
      ],
      "execution_count": 22,
      "outputs": []
    },
    {
      "cell_type": "code",
      "metadata": {
        "id": "M-QjX4F7VTfv"
      },
      "source": [
        "model.compile(optimizer='rmsprop', loss='binary_crossentropy', metrics='accuracy')"
      ],
      "execution_count": 23,
      "outputs": []
    },
    {
      "cell_type": "code",
      "metadata": {
        "colab": {
          "base_uri": "https://localhost:8080/"
        },
        "id": "roHtnC8jTC7v",
        "outputId": "ae0f9f17-e1ee-42f6-a97e-6d05e351f104"
      },
      "source": [
        "model.fit(x_train, y_train, epochs=15, batch_size=512)"
      ],
      "execution_count": 24,
      "outputs": [
        {
          "output_type": "stream",
          "text": [
            "Epoch 1/15\n",
            "49/49 [==============================] - 3s 41ms/step - loss: 0.5243 - accuracy: 0.7439\n",
            "Epoch 2/15\n",
            "49/49 [==============================] - 2s 41ms/step - loss: 0.2442 - accuracy: 0.9129\n",
            "Epoch 3/15\n",
            "49/49 [==============================] - 2s 38ms/step - loss: 0.1836 - accuracy: 0.9347\n",
            "Epoch 4/15\n",
            "49/49 [==============================] - 2s 37ms/step - loss: 0.1546 - accuracy: 0.9474\n",
            "Epoch 5/15\n",
            "49/49 [==============================] - 2s 37ms/step - loss: 0.1211 - accuracy: 0.9575\n",
            "Epoch 6/15\n",
            "49/49 [==============================] - 2s 37ms/step - loss: 0.1049 - accuracy: 0.9641\n",
            "Epoch 7/15\n",
            "49/49 [==============================] - 2s 38ms/step - loss: 0.0878 - accuracy: 0.9704\n",
            "Epoch 8/15\n",
            "49/49 [==============================] - 2s 37ms/step - loss: 0.0785 - accuracy: 0.9749\n",
            "Epoch 9/15\n",
            "49/49 [==============================] - 2s 37ms/step - loss: 0.0623 - accuracy: 0.9808\n",
            "Epoch 10/15\n",
            "49/49 [==============================] - 2s 38ms/step - loss: 0.0502 - accuracy: 0.9850\n",
            "Epoch 11/15\n",
            "49/49 [==============================] - 2s 42ms/step - loss: 0.0424 - accuracy: 0.9868\n",
            "Epoch 12/15\n",
            "49/49 [==============================] - 2s 40ms/step - loss: 0.0295 - accuracy: 0.9922\n",
            "Epoch 13/15\n",
            "49/49 [==============================] - 2s 39ms/step - loss: 0.0216 - accuracy: 0.9949\n",
            "Epoch 14/15\n",
            "49/49 [==============================] - 2s 38ms/step - loss: 0.0145 - accuracy: 0.9969\n",
            "Epoch 15/15\n",
            "49/49 [==============================] - 2s 39ms/step - loss: 0.0158 - accuracy: 0.9964\n"
          ],
          "name": "stdout"
        },
        {
          "output_type": "execute_result",
          "data": {
            "text/plain": [
              "<tensorflow.python.keras.callbacks.History at 0x7f73e96e3590>"
            ]
          },
          "metadata": {
            "tags": []
          },
          "execution_count": 24
        }
      ]
    },
    {
      "cell_type": "code",
      "metadata": {
        "colab": {
          "base_uri": "https://localhost:8080/"
        },
        "id": "359Hk2BnTTcL",
        "outputId": "8d655f5f-73ab-42f0-b9ee-4c41a4fe39f6"
      },
      "source": [
        "model.evaluate(x_test, y_test)"
      ],
      "execution_count": 25,
      "outputs": [
        {
          "output_type": "stream",
          "text": [
            "782/782 [==============================] - 2s 2ms/step - loss: 0.7226 - accuracy: 0.8562\n"
          ],
          "name": "stdout"
        },
        {
          "output_type": "execute_result",
          "data": {
            "text/plain": [
              "[0.7226449251174927, 0.8562399744987488]"
            ]
          },
          "metadata": {
            "tags": []
          },
          "execution_count": 25
        }
      ]
    },
    {
      "cell_type": "code",
      "metadata": {
        "colab": {
          "base_uri": "https://localhost:8080/"
        },
        "id": "jTqLC6mjWyJs",
        "outputId": "13ab4e6e-a7cb-4bad-a8b2-13d6d70dfa20"
      },
      "source": [
        "model.predict(x_test)"
      ],
      "execution_count": 26,
      "outputs": [
        {
          "output_type": "execute_result",
          "data": {
            "text/plain": [
              "array([[0.0090003 ],\n",
              "       [0.99999964],\n",
              "       [0.8925364 ],\n",
              "       ...,\n",
              "       [0.01305211],\n",
              "       [0.0047794 ],\n",
              "       [0.99440515]], dtype=float32)"
            ]
          },
          "metadata": {
            "tags": []
          },
          "execution_count": 26
        }
      ]
    },
    {
      "cell_type": "code",
      "metadata": {
        "id": "PFIw81TjXI7O"
      },
      "source": [
        "model1 = Sequential()\r\n",
        "model1.add(layers.Dense(100, activation='relu', input_shape=(10000,)))\r\n",
        "model1.add(layers.Dense(60, activation='relu'))\r\n",
        "model1.add(layers.Dense(20, activation='relu'))\r\n",
        "model1.add(layers.Dense(1, activation='sigmoid'))"
      ],
      "execution_count": 27,
      "outputs": []
    },
    {
      "cell_type": "code",
      "metadata": {
        "id": "U9jfPTj0jC9C"
      },
      "source": [
        "model1.compile(optimizer='rmsprop', loss='binary_crossentropy', metrics='accuracy')"
      ],
      "execution_count": 28,
      "outputs": []
    },
    {
      "cell_type": "code",
      "metadata": {
        "colab": {
          "base_uri": "https://localhost:8080/"
        },
        "id": "iFkELtBMjRAa",
        "outputId": "2aafd68e-6963-4cd4-b84d-a7454818a473"
      },
      "source": [
        "model1.fit(x_train, y_train, epochs=10, batch_size=400)"
      ],
      "execution_count": 29,
      "outputs": [
        {
          "output_type": "stream",
          "text": [
            "Epoch 1/10\n",
            "63/63 [==============================] - 4s 55ms/step - loss: 0.5217 - accuracy: 0.7347\n",
            "Epoch 2/10\n",
            "63/63 [==============================] - 4s 60ms/step - loss: 0.2247 - accuracy: 0.9122\n",
            "Epoch 3/10\n",
            "63/63 [==============================] - 4s 56ms/step - loss: 0.1628 - accuracy: 0.9393\n",
            "Epoch 4/10\n",
            "63/63 [==============================] - 4s 56ms/step - loss: 0.1123 - accuracy: 0.9589\n",
            "Epoch 5/10\n",
            "63/63 [==============================] - 3s 55ms/step - loss: 0.0838 - accuracy: 0.9688\n",
            "Epoch 6/10\n",
            "63/63 [==============================] - 3s 54ms/step - loss: 0.0331 - accuracy: 0.9896\n",
            "Epoch 7/10\n",
            "63/63 [==============================] - 3s 55ms/step - loss: 0.0318 - accuracy: 0.9910\n",
            "Epoch 8/10\n",
            "63/63 [==============================] - 4s 58ms/step - loss: 0.0186 - accuracy: 0.9956\n",
            "Epoch 9/10\n",
            "63/63 [==============================] - 3s 55ms/step - loss: 0.0090 - accuracy: 0.9982\n",
            "Epoch 10/10\n",
            "63/63 [==============================] - 3s 55ms/step - loss: 0.0011 - accuracy: 0.9998\n"
          ],
          "name": "stdout"
        },
        {
          "output_type": "execute_result",
          "data": {
            "text/plain": [
              "<tensorflow.python.keras.callbacks.History at 0x7f73e3bcc350>"
            ]
          },
          "metadata": {
            "tags": []
          },
          "execution_count": 29
        }
      ]
    },
    {
      "cell_type": "code",
      "metadata": {
        "colab": {
          "base_uri": "https://localhost:8080/"
        },
        "id": "KGqUENM2jhQY",
        "outputId": "da42533c-6739-4964-cf85-dacb98161cec"
      },
      "source": [
        "model1.predict(x_test)"
      ],
      "execution_count": 30,
      "outputs": [
        {
          "output_type": "execute_result",
          "data": {
            "text/plain": [
              "array([[8.614063e-04],\n",
              "       [1.000000e+00],\n",
              "       [1.000000e+00],\n",
              "       ...,\n",
              "       [9.734988e-03],\n",
              "       [4.686177e-03],\n",
              "       [9.988995e-01]], dtype=float32)"
            ]
          },
          "metadata": {
            "tags": []
          },
          "execution_count": 30
        }
      ]
    },
    {
      "cell_type": "code",
      "metadata": {
        "colab": {
          "base_uri": "https://localhost:8080/"
        },
        "id": "_N04-XWqj2ok",
        "outputId": "4c917160-7457-4944-e2ca-6b1441e10940"
      },
      "source": [
        "model1.evaluate(x_test, y_test)"
      ],
      "execution_count": 31,
      "outputs": [
        {
          "output_type": "stream",
          "text": [
            "782/782 [==============================] - 3s 3ms/step - loss: 0.9257 - accuracy: 0.8655\n"
          ],
          "name": "stdout"
        },
        {
          "output_type": "execute_result",
          "data": {
            "text/plain": [
              "[0.9256958365440369, 0.8655200004577637]"
            ]
          },
          "metadata": {
            "tags": []
          },
          "execution_count": 31
        }
      ]
    },
    {
      "cell_type": "code",
      "metadata": {
        "id": "G4KHzkzBlDNR"
      },
      "source": [
        "models = Sequential()\r\n",
        "models.add(layers.Dense(500, activation='tanh', input_shape=(10000,)))\r\n",
        "models.add(layers.Dense(300, activation='tanh'))\r\n",
        "models.add(layers.Dense(200, activation='tanh'))\r\n",
        "models.add(layers.Dense(100, activation='tanh'))\r\n",
        "models.add(layers.Dense(1, activation='sigmoid'))"
      ],
      "execution_count": 37,
      "outputs": []
    },
    {
      "cell_type": "code",
      "metadata": {
        "id": "CddhqE4OoGQU"
      },
      "source": [
        "models.compile(optimizer='rmsprop', loss='mse', metrics='accuracy' )"
      ],
      "execution_count": 38,
      "outputs": []
    },
    {
      "cell_type": "code",
      "metadata": {
        "colab": {
          "base_uri": "https://localhost:8080/"
        },
        "id": "aoypZz5kom8R",
        "outputId": "63a52d20-707c-4576-8521-158d97105c5e"
      },
      "source": [
        "models.fit(x_train, y_train, epochs=10, batch_size=300, validation_data=(x_val, y_val))"
      ],
      "execution_count": 39,
      "outputs": [
        {
          "output_type": "stream",
          "text": [
            "Epoch 1/10\n",
            "84/84 [==============================] - 17s 189ms/step - loss: 0.2266 - accuracy: 0.6723 - val_loss: 0.0574 - val_accuracy: 0.9326\n",
            "Epoch 2/10\n",
            "84/84 [==============================] - 15s 184ms/step - loss: 0.0685 - accuracy: 0.9100 - val_loss: 0.0485 - val_accuracy: 0.9422\n",
            "Epoch 3/10\n",
            "84/84 [==============================] - 16s 188ms/step - loss: 0.0491 - accuracy: 0.9360 - val_loss: 0.0369 - val_accuracy: 0.9583\n",
            "Epoch 4/10\n",
            "84/84 [==============================] - 15s 183ms/step - loss: 0.0395 - accuracy: 0.9519 - val_loss: 0.0279 - val_accuracy: 0.9671\n",
            "Epoch 5/10\n",
            "84/84 [==============================] - 15s 184ms/step - loss: 0.0320 - accuracy: 0.9606 - val_loss: 0.0207 - val_accuracy: 0.9763\n",
            "Epoch 6/10\n",
            "84/84 [==============================] - 16s 186ms/step - loss: 0.0246 - accuracy: 0.9702 - val_loss: 0.0209 - val_accuracy: 0.9747\n",
            "Epoch 7/10\n",
            "84/84 [==============================] - 15s 183ms/step - loss: 0.0175 - accuracy: 0.9794 - val_loss: 0.0122 - val_accuracy: 0.9864\n",
            "Epoch 8/10\n",
            "84/84 [==============================] - 15s 181ms/step - loss: 0.0137 - accuracy: 0.9841 - val_loss: 0.0078 - val_accuracy: 0.9919\n",
            "Epoch 9/10\n",
            "84/84 [==============================] - 15s 183ms/step - loss: 0.0095 - accuracy: 0.9889 - val_loss: 0.0077 - val_accuracy: 0.9921\n",
            "Epoch 10/10\n",
            "84/84 [==============================] - 16s 185ms/step - loss: 0.0090 - accuracy: 0.9895 - val_loss: 0.0045 - val_accuracy: 0.9954\n"
          ],
          "name": "stdout"
        },
        {
          "output_type": "execute_result",
          "data": {
            "text/plain": [
              "<tensorflow.python.keras.callbacks.History at 0x7f73e6ff4450>"
            ]
          },
          "metadata": {
            "tags": []
          },
          "execution_count": 39
        }
      ]
    },
    {
      "cell_type": "code",
      "metadata": {
        "colab": {
          "base_uri": "https://localhost:8080/"
        },
        "id": "YCs99Iwrpn4M",
        "outputId": "8508fc78-8483-4b28-d101-3944b7877fdb"
      },
      "source": [
        "models.evaluate(x_test, y_test)"
      ],
      "execution_count": 40,
      "outputs": [
        {
          "output_type": "stream",
          "text": [
            "782/782 [==============================] - 10s 13ms/step - loss: 0.1175 - accuracy: 0.8652\n"
          ],
          "name": "stdout"
        },
        {
          "output_type": "execute_result",
          "data": {
            "text/plain": [
              "[0.11753522604703903, 0.8652399778366089]"
            ]
          },
          "metadata": {
            "tags": []
          },
          "execution_count": 40
        }
      ]
    },
    {
      "cell_type": "code",
      "metadata": {
        "colab": {
          "base_uri": "https://localhost:8080/"
        },
        "id": "ZtDkrOFQqacd",
        "outputId": "0036bcf9-fcb3-427c-b710-a9d6c6e7d0b9"
      },
      "source": [
        "models.predict(x_test)"
      ],
      "execution_count": 41,
      "outputs": [
        {
          "output_type": "execute_result",
          "data": {
            "text/plain": [
              "array([[0.0031105 ],\n",
              "       [0.99817306],\n",
              "       [0.947371  ],\n",
              "       ...,\n",
              "       [0.01500377],\n",
              "       [0.00804013],\n",
              "       [0.58266836]], dtype=float32)"
            ]
          },
          "metadata": {
            "tags": []
          },
          "execution_count": 41
        }
      ]
    },
    {
      "cell_type": "code",
      "metadata": {
        "id": "TK5v1HGZqjI_"
      },
      "source": [
        ""
      ],
      "execution_count": null,
      "outputs": []
    }
  ]
}