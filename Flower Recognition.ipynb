{
 "cells": [
  {
   "cell_type": "code",
   "execution_count": 1,
   "metadata": {},
   "outputs": [],
   "source": [
    "# Importing labraries\n",
    "import numpy as np\n",
    "import pandas as pd \n",
    "import cv2\n",
    "import os\n",
    "import matplotlib.pyplot as plt\n",
    "from tensorflow.keras.models import Sequential\n",
    "from tensorflow.keras import layers\n",
    "import PIL"
   ]
  },
  {
   "cell_type": "code",
   "execution_count": 2,
   "metadata": {},
   "outputs": [],
   "source": [
    "path = './flowers/'\n",
    "cate = ['daisy', 'dandelion', 'rose', 'sunflower', 'tulip']"
   ]
  },
  {
   "cell_type": "code",
   "execution_count": 3,
   "metadata": {},
   "outputs": [],
   "source": [
    "X = []\n",
    "Y = []"
   ]
  },
  {
   "cell_type": "code",
   "execution_count": 4,
   "metadata": {},
   "outputs": [],
   "source": [
    "# Read Images\n",
    "size = 100\n",
    "for file in cate:\n",
    "    link = os.path.join(path, file)\n",
    "    for img in os.listdir(link):\n",
    "        image = cv2.imread(os.path.join(link, img), cv2.IMREAD_GRAYSCALE)\n",
    "        image = cv2.resize(image, (size, size))\n",
    "        X.append(np.array(image))\n",
    "        Y.append(str(file))"
   ]
  },
  {
   "cell_type": "code",
   "execution_count": 5,
   "metadata": {},
   "outputs": [],
   "source": [
    "X = np.array(X)"
   ]
  },
  {
   "cell_type": "code",
   "execution_count": 6,
   "metadata": {},
   "outputs": [
    {
     "data": {
      "text/plain": [
       "(4323, 100, 100)"
      ]
     },
     "execution_count": 6,
     "metadata": {},
     "output_type": "execute_result"
    }
   ],
   "source": [
    "X.shape"
   ]
  },
  {
   "cell_type": "code",
   "execution_count": 7,
   "metadata": {},
   "outputs": [
    {
     "data": {
      "text/plain": [
       "4323"
      ]
     },
     "execution_count": 7,
     "metadata": {},
     "output_type": "execute_result"
    }
   ],
   "source": [
    "X.shape[0]"
   ]
  },
  {
   "cell_type": "code",
   "execution_count": 8,
   "metadata": {},
   "outputs": [
    {
     "data": {
      "text/plain": [
       "255"
      ]
     },
     "execution_count": 8,
     "metadata": {},
     "output_type": "execute_result"
    }
   ],
   "source": [
    "X.max()"
   ]
  },
  {
   "cell_type": "code",
   "execution_count": 9,
   "metadata": {},
   "outputs": [],
   "source": [
    "# Visualization\n",
    "cv2.imshow('Image', X[2500])\n",
    "cv2.waitKey(0)\n",
    "cv2.destroyAllWindows()"
   ]
  },
  {
   "cell_type": "code",
   "execution_count": 10,
   "metadata": {},
   "outputs": [
    {
     "data": {
      "text/plain": [
       "(100, 100)"
      ]
     },
     "execution_count": 10,
     "metadata": {},
     "output_type": "execute_result"
    }
   ],
   "source": [
    "X[0].shape"
   ]
  },
  {
   "cell_type": "code",
   "execution_count": 11,
   "metadata": {},
   "outputs": [],
   "source": [
    "# Normalization\n",
    "X = X.reshape(4323, 100*100)\n",
    "X = X.astype('float32')/255\n"
   ]
  },
  {
   "cell_type": "code",
   "execution_count": 12,
   "metadata": {},
   "outputs": [
    {
     "data": {
      "text/plain": [
       "array([0.5372549 , 0.57254905, 0.58431375, ..., 0.5137255 , 0.5019608 ,\n",
       "       0.49803922], dtype=float32)"
      ]
     },
     "execution_count": 12,
     "metadata": {},
     "output_type": "execute_result"
    }
   ],
   "source": [
    "X[0]"
   ]
  },
  {
   "cell_type": "code",
   "execution_count": 13,
   "metadata": {},
   "outputs": [
    {
     "data": {
      "text/plain": [
       "4323"
      ]
     },
     "execution_count": 13,
     "metadata": {},
     "output_type": "execute_result"
    }
   ],
   "source": [
    "X.shape[0]"
   ]
  },
  {
   "cell_type": "code",
   "execution_count": 14,
   "metadata": {},
   "outputs": [],
   "source": [
    "Y = np.array(Y)"
   ]
  },
  {
   "cell_type": "code",
   "execution_count": 15,
   "metadata": {},
   "outputs": [
    {
     "data": {
      "text/plain": [
       "(4323,)"
      ]
     },
     "execution_count": 15,
     "metadata": {},
     "output_type": "execute_result"
    }
   ],
   "source": [
    "Y.shape"
   ]
  },
  {
   "cell_type": "code",
   "execution_count": 16,
   "metadata": {},
   "outputs": [],
   "source": [
    "Label = pd.Series(Y, index=range(0, 4323))"
   ]
  },
  {
   "cell_type": "code",
   "execution_count": 17,
   "metadata": {},
   "outputs": [
    {
     "data": {
      "text/plain": [
       "0       daisy\n",
       "1       daisy\n",
       "2       daisy\n",
       "3       daisy\n",
       "4       daisy\n",
       "        ...  \n",
       "4318    tulip\n",
       "4319    tulip\n",
       "4320    tulip\n",
       "4321    tulip\n",
       "4322    tulip\n",
       "Length: 4323, dtype: object"
      ]
     },
     "execution_count": 17,
     "metadata": {},
     "output_type": "execute_result"
    }
   ],
   "source": [
    "Label"
   ]
  },
  {
   "cell_type": "code",
   "execution_count": 18,
   "metadata": {},
   "outputs": [
    {
     "data": {
      "text/plain": [
       "dandelion    1052\n",
       "tulip         984\n",
       "rose          784\n",
       "daisy         769\n",
       "sunflower     734\n",
       "dtype: int64"
      ]
     },
     "execution_count": 18,
     "metadata": {},
     "output_type": "execute_result"
    }
   ],
   "source": [
    "Label.value_counts()"
   ]
  },
  {
   "cell_type": "code",
   "execution_count": 19,
   "metadata": {},
   "outputs": [],
   "source": [
    "# One-hot encoding\n",
    "# here we will replace daisy = 0, dandelion=1, rose=2, sunflower=3, tulip=4\n",
    "replace_values = {'daisy':0, 'dandelion':1, 'rose':2, 'sunflower':3, 'tulip':4}"
   ]
  },
  {
   "cell_type": "code",
   "execution_count": 20,
   "metadata": {},
   "outputs": [],
   "source": [
    "Label = Label.replace(replace_values)"
   ]
  },
  {
   "cell_type": "code",
   "execution_count": 21,
   "metadata": {},
   "outputs": [
    {
     "data": {
      "text/plain": [
       "0       0\n",
       "1       0\n",
       "2       0\n",
       "3       0\n",
       "4       0\n",
       "       ..\n",
       "4318    4\n",
       "4319    4\n",
       "4320    4\n",
       "4321    4\n",
       "4322    4\n",
       "Length: 4323, dtype: int64"
      ]
     },
     "execution_count": 21,
     "metadata": {},
     "output_type": "execute_result"
    }
   ],
   "source": [
    "Label"
   ]
  },
  {
   "cell_type": "code",
   "execution_count": 22,
   "metadata": {},
   "outputs": [],
   "source": [
    "# Split dataset\n",
    "from sklearn.model_selection import train_test_split\n",
    "X_train, X_test, Y_train, Y_test = train_test_split(X, Label, test_size=0.3, random_state=0)\n",
    "X_train, X_val, Y_train, Y_val = train_test_split(X_train, Y_train, test_size=0.2)"
   ]
  },
  {
   "cell_type": "code",
   "execution_count": 23,
   "metadata": {},
   "outputs": [
    {
     "data": {
      "text/plain": [
       "(2420, 10000)"
      ]
     },
     "execution_count": 23,
     "metadata": {},
     "output_type": "execute_result"
    }
   ],
   "source": [
    "X_train.shape"
   ]
  },
  {
   "cell_type": "code",
   "execution_count": 24,
   "metadata": {},
   "outputs": [
    {
     "data": {
      "text/plain": [
       "(2420,)"
      ]
     },
     "execution_count": 24,
     "metadata": {},
     "output_type": "execute_result"
    }
   ],
   "source": [
    "Y_train.shape"
   ]
  },
  {
   "cell_type": "code",
   "execution_count": 25,
   "metadata": {},
   "outputs": [],
   "source": [
    "# let's build the model\n",
    "network = Sequential()"
   ]
  },
  {
   "cell_type": "code",
   "execution_count": 26,
   "metadata": {},
   "outputs": [],
   "source": [
    "network.add(layers.Dense(700, activation='relu', input_shape=(X_train.shape[1],)))\n",
    "network.add(layers.Dense(400, activation='relu'))\n",
    "# network.add(layers.Dense(200, activation='relu'))\n",
    "# network.add(layers.Dense(100, activation='relu'))\n",
    "# network.add(layers.Dense(50, activation='relu'))\n",
    "network.add(layers.Dense(20, activation='relu'))\n",
    "network.add(layers.Dense(1, activation='sigmoid'))"
   ]
  },
  {
   "cell_type": "code",
   "execution_count": 27,
   "metadata": {},
   "outputs": [],
   "source": [
    "network.compile(optimizer='rmsprop', loss='categorical_crossentropy', metrics='accuracy')"
   ]
  },
  {
   "cell_type": "code",
   "execution_count": 28,
   "metadata": {},
   "outputs": [
    {
     "name": "stdout",
     "output_type": "stream",
     "text": [
      "Epoch 1/100\n",
      "13/13 [==============================] - 2s 179ms/step - loss: 2.4596e-07 - accuracy: 0.1678 - val_loss: 2.3252e-07 - val_accuracy: 0.1782\n",
      "Epoch 2/100\n",
      "13/13 [==============================] - 2s 179ms/step - loss: 2.4596e-07 - accuracy: 0.1678 - val_loss: 2.3252e-07 - val_accuracy: 0.1782\n",
      "Epoch 3/100\n",
      "13/13 [==============================] - 2s 153ms/step - loss: 2.4596e-07 - accuracy: 0.1678 - val_loss: 2.3252e-07 - val_accuracy: 0.1782\n",
      "Epoch 4/100\n",
      "13/13 [==============================] - 2s 162ms/step - loss: 2.4596e-07 - accuracy: 0.1678 - val_loss: 2.3252e-07 - val_accuracy: 0.1782\n",
      "Epoch 5/100\n",
      "13/13 [==============================] - 2s 175ms/step - loss: 2.4596e-07 - accuracy: 0.1678 - val_loss: 2.3252e-07 - val_accuracy: 0.1782\n",
      "Epoch 6/100\n",
      "13/13 [==============================] - 2s 152ms/step - loss: 2.4596e-07 - accuracy: 0.1678 - val_loss: 2.3252e-07 - val_accuracy: 0.1782\n",
      "Epoch 7/100\n",
      "13/13 [==============================] - 2s 155ms/step - loss: 2.4596e-07 - accuracy: 0.1678 - val_loss: 2.3252e-07 - val_accuracy: 0.1782\n",
      "Epoch 8/100\n",
      "13/13 [==============================] - 2s 154ms/step - loss: 2.4596e-07 - accuracy: 0.1678 - val_loss: 2.3252e-07 - val_accuracy: 0.1782\n",
      "Epoch 9/100\n",
      "13/13 [==============================] - 2s 173ms/step - loss: 2.4596e-07 - accuracy: 0.1678 - val_loss: 2.3252e-07 - val_accuracy: 0.1782\n",
      "Epoch 10/100\n",
      "13/13 [==============================] - 2s 179ms/step - loss: 2.4596e-07 - accuracy: 0.1678 - val_loss: 2.3252e-07 - val_accuracy: 0.1782\n",
      "Epoch 11/100\n",
      "13/13 [==============================] - 2s 181ms/step - loss: 2.4596e-07 - accuracy: 0.1678 - val_loss: 2.3252e-07 - val_accuracy: 0.1782\n",
      "Epoch 12/100\n",
      "13/13 [==============================] - 2s 158ms/step - loss: 2.4596e-07 - accuracy: 0.1678 - val_loss: 2.3252e-07 - val_accuracy: 0.1782\n",
      "Epoch 13/100\n",
      "13/13 [==============================] - 2s 167ms/step - loss: 2.4596e-07 - accuracy: 0.1678 - val_loss: 2.3252e-07 - val_accuracy: 0.1782\n",
      "Epoch 14/100\n",
      "13/13 [==============================] - 2s 165ms/step - loss: 2.4596e-07 - accuracy: 0.1678 - val_loss: 2.3252e-07 - val_accuracy: 0.1782\n",
      "Epoch 15/100\n",
      "13/13 [==============================] - 2s 168ms/step - loss: 2.4596e-07 - accuracy: 0.1678 - val_loss: 2.3252e-07 - val_accuracy: 0.1782\n",
      "Epoch 16/100\n",
      "13/13 [==============================] - 2s 157ms/step - loss: 2.4596e-07 - accuracy: 0.1678 - val_loss: 2.3252e-07 - val_accuracy: 0.1782\n",
      "Epoch 17/100\n",
      "13/13 [==============================] - 2s 162ms/step - loss: 2.4596e-07 - accuracy: 0.1678 - val_loss: 2.3252e-07 - val_accuracy: 0.1782\n",
      "Epoch 18/100\n",
      "13/13 [==============================] - 2s 167ms/step - loss: 2.4596e-07 - accuracy: 0.1678 - val_loss: 2.3252e-07 - val_accuracy: 0.1782\n",
      "Epoch 19/100\n",
      "13/13 [==============================] - 2s 159ms/step - loss: 2.4596e-07 - accuracy: 0.1678 - val_loss: 2.3252e-07 - val_accuracy: 0.1782\n",
      "Epoch 20/100\n",
      "13/13 [==============================] - 2s 181ms/step - loss: 2.4596e-07 - accuracy: 0.1678 - val_loss: 2.3252e-07 - val_accuracy: 0.1782\n",
      "Epoch 21/100\n",
      "13/13 [==============================] - 2s 164ms/step - loss: 2.4596e-07 - accuracy: 0.1678 - val_loss: 2.3252e-07 - val_accuracy: 0.1782\n",
      "Epoch 22/100\n",
      "13/13 [==============================] - 2s 162ms/step - loss: 2.4596e-07 - accuracy: 0.1678 - val_loss: 2.3252e-07 - val_accuracy: 0.1782\n",
      "Epoch 23/100\n",
      "13/13 [==============================] - 2s 174ms/step - loss: 2.4596e-07 - accuracy: 0.1678 - val_loss: 2.3252e-07 - val_accuracy: 0.1782\n",
      "Epoch 24/100\n",
      "13/13 [==============================] - 2s 171ms/step - loss: 2.4596e-07 - accuracy: 0.1678 - val_loss: 2.3252e-07 - val_accuracy: 0.1782\n",
      "Epoch 25/100\n",
      "13/13 [==============================] - 2s 162ms/step - loss: 2.4596e-07 - accuracy: 0.1678 - val_loss: 2.3252e-07 - val_accuracy: 0.1782\n",
      "Epoch 26/100\n",
      "13/13 [==============================] - 2s 161ms/step - loss: 2.4596e-07 - accuracy: 0.1678 - val_loss: 2.3252e-07 - val_accuracy: 0.1782\n",
      "Epoch 27/100\n",
      "13/13 [==============================] - 2s 161ms/step - loss: 2.4596e-07 - accuracy: 0.1678 - val_loss: 2.3252e-07 - val_accuracy: 0.1782\n",
      "Epoch 28/100\n",
      "13/13 [==============================] - 2s 158ms/step - loss: 2.4596e-07 - accuracy: 0.1678 - val_loss: 2.3252e-07 - val_accuracy: 0.1782\n",
      "Epoch 29/100\n",
      "13/13 [==============================] - 2s 162ms/step - loss: 2.4596e-07 - accuracy: 0.1678 - val_loss: 2.3252e-07 - val_accuracy: 0.1782\n",
      "Epoch 30/100\n",
      "13/13 [==============================] - 2s 165ms/step - loss: 2.4596e-07 - accuracy: 0.1678 - val_loss: 2.3252e-07 - val_accuracy: 0.1782\n",
      "Epoch 31/100\n",
      "13/13 [==============================] - 2s 166ms/step - loss: 2.4596e-07 - accuracy: 0.1678 - val_loss: 2.3252e-07 - val_accuracy: 0.1782\n",
      "Epoch 32/100\n",
      "13/13 [==============================] - 2s 160ms/step - loss: 2.4596e-07 - accuracy: 0.1678 - val_loss: 2.3252e-07 - val_accuracy: 0.1782\n",
      "Epoch 33/100\n",
      "13/13 [==============================] - 2s 161ms/step - loss: 2.4596e-07 - accuracy: 0.1678 - val_loss: 2.3252e-07 - val_accuracy: 0.1782\n",
      "Epoch 34/100\n",
      "13/13 [==============================] - 2s 162ms/step - loss: 2.4596e-07 - accuracy: 0.1678 - val_loss: 2.3252e-07 - val_accuracy: 0.1782\n",
      "Epoch 35/100\n",
      "13/13 [==============================] - 2s 164ms/step - loss: 2.4596e-07 - accuracy: 0.1678 - val_loss: 2.3252e-07 - val_accuracy: 0.1782\n",
      "Epoch 36/100\n",
      "13/13 [==============================] - 2s 162ms/step - loss: 2.4596e-07 - accuracy: 0.1678 - val_loss: 2.3252e-07 - val_accuracy: 0.1782\n",
      "Epoch 37/100\n",
      "13/13 [==============================] - 2s 161ms/step - loss: 2.4596e-07 - accuracy: 0.1678 - val_loss: 2.3252e-07 - val_accuracy: 0.1782\n",
      "Epoch 38/100\n",
      "13/13 [==============================] - 2s 157ms/step - loss: 2.4596e-07 - accuracy: 0.1678 - val_loss: 2.3252e-07 - val_accuracy: 0.1782\n",
      "Epoch 39/100\n",
      "13/13 [==============================] - 2s 163ms/step - loss: 2.4596e-07 - accuracy: 0.1678 - val_loss: 2.3252e-07 - val_accuracy: 0.1782\n",
      "Epoch 40/100\n",
      "13/13 [==============================] - 2s 171ms/step - loss: 2.4596e-07 - accuracy: 0.1678 - val_loss: 2.3252e-07 - val_accuracy: 0.1782\n",
      "Epoch 41/100\n",
      "13/13 [==============================] - 2s 160ms/step - loss: 2.4596e-07 - accuracy: 0.1678 - val_loss: 2.3252e-07 - val_accuracy: 0.1782\n",
      "Epoch 42/100\n",
      "13/13 [==============================] - 2s 164ms/step - loss: 2.4596e-07 - accuracy: 0.1678 - val_loss: 2.3252e-07 - val_accuracy: 0.1782\n",
      "Epoch 43/100\n",
      "13/13 [==============================] - 2s 159ms/step - loss: 2.4596e-07 - accuracy: 0.1678 - val_loss: 2.3252e-07 - val_accuracy: 0.1782\n",
      "Epoch 44/100\n",
      "13/13 [==============================] - 2s 166ms/step - loss: 2.4596e-07 - accuracy: 0.1678 - val_loss: 2.3252e-07 - val_accuracy: 0.1782\n",
      "Epoch 45/100\n",
      "13/13 [==============================] - 2s 159ms/step - loss: 2.4596e-07 - accuracy: 0.1678 - val_loss: 2.3252e-07 - val_accuracy: 0.1782\n",
      "Epoch 46/100\n",
      "13/13 [==============================] - 2s 156ms/step - loss: 2.4596e-07 - accuracy: 0.1678 - val_loss: 2.3252e-07 - val_accuracy: 0.1782\n",
      "Epoch 47/100\n",
      "13/13 [==============================] - 2s 159ms/step - loss: 2.4596e-07 - accuracy: 0.1678 - val_loss: 2.3252e-07 - val_accuracy: 0.1782\n",
      "Epoch 48/100\n",
      "13/13 [==============================] - 2s 160ms/step - loss: 2.4596e-07 - accuracy: 0.1678 - val_loss: 2.3252e-07 - val_accuracy: 0.1782\n",
      "Epoch 49/100\n",
      "13/13 [==============================] - 2s 157ms/step - loss: 2.4596e-07 - accuracy: 0.1678 - val_loss: 2.3252e-07 - val_accuracy: 0.1782\n",
      "Epoch 50/100\n",
      "13/13 [==============================] - 2s 170ms/step - loss: 2.4596e-07 - accuracy: 0.1678 - val_loss: 2.3252e-07 - val_accuracy: 0.1782\n",
      "Epoch 51/100\n",
      "13/13 [==============================] - 2s 157ms/step - loss: 2.4596e-07 - accuracy: 0.1678 - val_loss: 2.3252e-07 - val_accuracy: 0.1782\n",
      "Epoch 52/100\n",
      "13/13 [==============================] - 2s 156ms/step - loss: 2.4596e-07 - accuracy: 0.1678 - val_loss: 2.3252e-07 - val_accuracy: 0.1782\n",
      "Epoch 53/100\n",
      "13/13 [==============================] - 2s 160ms/step - loss: 2.4596e-07 - accuracy: 0.1678 - val_loss: 2.3252e-07 - val_accuracy: 0.1782\n",
      "Epoch 54/100\n",
      "13/13 [==============================] - 3s 194ms/step - loss: 2.4596e-07 - accuracy: 0.1678 - val_loss: 2.3252e-07 - val_accuracy: 0.1782\n",
      "Epoch 55/100\n",
      "13/13 [==============================] - 2s 179ms/step - loss: 2.4596e-07 - accuracy: 0.1678 - val_loss: 2.3252e-07 - val_accuracy: 0.1782\n",
      "Epoch 56/100\n",
      "13/13 [==============================] - 2s 185ms/step - loss: 2.4596e-07 - accuracy: 0.1678 - val_loss: 2.3252e-07 - val_accuracy: 0.1782\n",
      "Epoch 57/100\n",
      "13/13 [==============================] - 2s 171ms/step - loss: 2.4596e-07 - accuracy: 0.1678 - val_loss: 2.3252e-07 - val_accuracy: 0.1782\n",
      "Epoch 58/100\n",
      "13/13 [==============================] - 2s 192ms/step - loss: 2.4596e-07 - accuracy: 0.1678 - val_loss: 2.3252e-07 - val_accuracy: 0.1782\n",
      "Epoch 59/100\n",
      "13/13 [==============================] - 3s 202ms/step - loss: 2.4596e-07 - accuracy: 0.1678 - val_loss: 2.3252e-07 - val_accuracy: 0.1782\n",
      "Epoch 60/100\n",
      "13/13 [==============================] - 3s 245ms/step - loss: 2.4596e-07 - accuracy: 0.1678 - val_loss: 2.3252e-07 - val_accuracy: 0.1782\n",
      "Epoch 61/100\n",
      "13/13 [==============================] - 3s 253ms/step - loss: 2.4596e-07 - accuracy: 0.1678 - val_loss: 2.3252e-07 - val_accuracy: 0.1782\n",
      "Epoch 62/100\n",
      "13/13 [==============================] - 4s 312ms/step - loss: 2.4596e-07 - accuracy: 0.1678 - val_loss: 2.3252e-07 - val_accuracy: 0.1782\n",
      "Epoch 63/100\n",
      "13/13 [==============================] - 2s 162ms/step - loss: 2.4596e-07 - accuracy: 0.1678 - val_loss: 2.3252e-07 - val_accuracy: 0.1782\n",
      "Epoch 64/100\n",
      "13/13 [==============================] - 3s 258ms/step - loss: 2.4596e-07 - accuracy: 0.1678 - val_loss: 2.3252e-07 - val_accuracy: 0.1782\n",
      "Epoch 65/100\n",
      "13/13 [==============================] - 4s 279ms/step - loss: 2.4596e-07 - accuracy: 0.1678 - val_loss: 2.3252e-07 - val_accuracy: 0.1782\n",
      "Epoch 66/100\n",
      "13/13 [==============================] - 3s 252ms/step - loss: 2.4596e-07 - accuracy: 0.1678 - val_loss: 2.3252e-07 - val_accuracy: 0.1782\n",
      "Epoch 67/100\n",
      "13/13 [==============================] - 3s 253ms/step - loss: 2.4596e-07 - accuracy: 0.1678 - val_loss: 2.3252e-07 - val_accuracy: 0.1782\n",
      "Epoch 68/100\n",
      "13/13 [==============================] - 3s 242ms/step - loss: 2.4596e-07 - accuracy: 0.1678 - val_loss: 2.3252e-07 - val_accuracy: 0.1782\n",
      "Epoch 69/100\n",
      "13/13 [==============================] - 3s 236ms/step - loss: 2.4596e-07 - accuracy: 0.1678 - val_loss: 2.3252e-07 - val_accuracy: 0.1782\n",
      "Epoch 70/100\n",
      "13/13 [==============================] - 3s 220ms/step - loss: 2.4596e-07 - accuracy: 0.1678 - val_loss: 2.3252e-07 - val_accuracy: 0.1782\n",
      "Epoch 71/100\n",
      "13/13 [==============================] - 3s 225ms/step - loss: 2.4596e-07 - accuracy: 0.1678 - val_loss: 2.3252e-07 - val_accuracy: 0.1782\n",
      "Epoch 72/100\n",
      "13/13 [==============================] - 3s 231ms/step - loss: 2.4596e-07 - accuracy: 0.1678 - val_loss: 2.3252e-07 - val_accuracy: 0.1782\n",
      "Epoch 73/100\n",
      "13/13 [==============================] - 3s 241ms/step - loss: 2.4596e-07 - accuracy: 0.1678 - val_loss: 2.3252e-07 - val_accuracy: 0.1782\n",
      "Epoch 74/100\n",
      "13/13 [==============================] - 3s 225ms/step - loss: 2.4596e-07 - accuracy: 0.1678 - val_loss: 2.3252e-07 - val_accuracy: 0.1782\n",
      "Epoch 75/100\n",
      "13/13 [==============================] - 3s 234ms/step - loss: 2.4596e-07 - accuracy: 0.1678 - val_loss: 2.3252e-07 - val_accuracy: 0.1782\n",
      "Epoch 76/100\n",
      "13/13 [==============================] - 3s 227ms/step - loss: 2.4596e-07 - accuracy: 0.1678 - val_loss: 2.3252e-07 - val_accuracy: 0.1782\n",
      "Epoch 77/100\n",
      "13/13 [==============================] - 3s 235ms/step - loss: 2.4596e-07 - accuracy: 0.1678 - val_loss: 2.3252e-07 - val_accuracy: 0.1782\n",
      "Epoch 78/100\n",
      "13/13 [==============================] - 3s 237ms/step - loss: 2.4596e-07 - accuracy: 0.1678 - val_loss: 2.3252e-07 - val_accuracy: 0.1782\n",
      "Epoch 79/100\n",
      "13/13 [==============================] - 3s 229ms/step - loss: 2.4596e-07 - accuracy: 0.1678 - val_loss: 2.3252e-07 - val_accuracy: 0.1782\n",
      "Epoch 80/100\n",
      "13/13 [==============================] - 3s 237ms/step - loss: 2.4596e-07 - accuracy: 0.1678 - val_loss: 2.3252e-07 - val_accuracy: 0.1782\n",
      "Epoch 81/100\n",
      "13/13 [==============================] - 3s 233ms/step - loss: 2.4596e-07 - accuracy: 0.1678 - val_loss: 2.3252e-07 - val_accuracy: 0.1782\n",
      "Epoch 82/100\n",
      "13/13 [==============================] - 3s 242ms/step - loss: 2.4596e-07 - accuracy: 0.1678 - val_loss: 2.3252e-07 - val_accuracy: 0.1782\n",
      "Epoch 83/100\n",
      "13/13 [==============================] - 3s 237ms/step - loss: 2.4596e-07 - accuracy: 0.1678 - val_loss: 2.3252e-07 - val_accuracy: 0.1782\n",
      "Epoch 84/100\n",
      "13/13 [==============================] - 3s 237ms/step - loss: 2.4596e-07 - accuracy: 0.1678 - val_loss: 2.3252e-07 - val_accuracy: 0.1782\n",
      "Epoch 85/100\n",
      "13/13 [==============================] - 3s 228ms/step - loss: 2.4596e-07 - accuracy: 0.1678 - val_loss: 2.3252e-07 - val_accuracy: 0.1782\n",
      "Epoch 86/100\n",
      "13/13 [==============================] - 3s 227ms/step - loss: 2.4596e-07 - accuracy: 0.1678 - val_loss: 2.3252e-07 - val_accuracy: 0.1782\n",
      "Epoch 87/100\n",
      "13/13 [==============================] - 3s 241ms/step - loss: 2.4596e-07 - accuracy: 0.1678 - val_loss: 2.3252e-07 - val_accuracy: 0.1782\n",
      "Epoch 88/100\n",
      "13/13 [==============================] - 3s 262ms/step - loss: 2.4596e-07 - accuracy: 0.1678 - val_loss: 2.3252e-07 - val_accuracy: 0.1782\n",
      "Epoch 89/100\n",
      "13/13 [==============================] - 3s 231ms/step - loss: 2.4596e-07 - accuracy: 0.1678 - val_loss: 2.3252e-07 - val_accuracy: 0.1782\n",
      "Epoch 90/100\n",
      "13/13 [==============================] - 3s 245ms/step - loss: 2.4596e-07 - accuracy: 0.1678 - val_loss: 2.3252e-07 - val_accuracy: 0.1782\n",
      "Epoch 91/100\n",
      "13/13 [==============================] - 3s 262ms/step - loss: 2.4596e-07 - accuracy: 0.1678 - val_loss: 2.3252e-07 - val_accuracy: 0.1782\n",
      "Epoch 92/100\n",
      "13/13 [==============================] - 3s 255ms/step - loss: 2.4596e-07 - accuracy: 0.1678 - val_loss: 2.3252e-07 - val_accuracy: 0.1782\n",
      "Epoch 93/100\n",
      "13/13 [==============================] - 3s 236ms/step - loss: 2.4596e-07 - accuracy: 0.1678 - val_loss: 2.3252e-07 - val_accuracy: 0.1782\n",
      "Epoch 94/100\n",
      "13/13 [==============================] - 3s 232ms/step - loss: 2.4596e-07 - accuracy: 0.1678 - val_loss: 2.3252e-07 - val_accuracy: 0.1782\n",
      "Epoch 95/100\n",
      "13/13 [==============================] - 3s 236ms/step - loss: 2.4596e-07 - accuracy: 0.1678 - val_loss: 2.3252e-07 - val_accuracy: 0.1782\n",
      "Epoch 96/100\n",
      "13/13 [==============================] - 3s 223ms/step - loss: 2.4596e-07 - accuracy: 0.1678 - val_loss: 2.3252e-07 - val_accuracy: 0.1782\n",
      "Epoch 97/100\n",
      "13/13 [==============================] - 3s 240ms/step - loss: 2.4596e-07 - accuracy: 0.1678 - val_loss: 2.3252e-07 - val_accuracy: 0.1782\n",
      "Epoch 98/100\n",
      "13/13 [==============================] - 3s 249ms/step - loss: 2.4596e-07 - accuracy: 0.1678 - val_loss: 2.3252e-07 - val_accuracy: 0.1782\n",
      "Epoch 99/100\n",
      "13/13 [==============================] - 3s 240ms/step - loss: 2.4596e-07 - accuracy: 0.1678 - val_loss: 2.3252e-07 - val_accuracy: 0.1782\n",
      "Epoch 100/100\n",
      "13/13 [==============================] - 3s 245ms/step - loss: 2.4596e-07 - accuracy: 0.1678 - val_loss: 2.3252e-07 - val_accuracy: 0.1782\n"
     ]
    }
   ],
   "source": [
    "history = network.fit(X_train, Y_train, batch_size=200, epochs=100, validation_data=(X_val, Y_val))"
   ]
  },
  {
   "cell_type": "code",
   "execution_count": 29,
   "metadata": {},
   "outputs": [],
   "source": [
    "training_loss = history.history['loss']\n",
    "val_loss = history.history['val_loss']\n",
    "\n",
    "epochs = range(1, 101)"
   ]
  },
  {
   "cell_type": "code",
   "execution_count": 30,
   "metadata": {},
   "outputs": [
    {
     "data": {
      "image/png": "[encoded data removed]",
      "text/plain": [
       "<Figure size 432x288 with 1 Axes>"
      ]
     },
     "metadata": {
      "needs_background": "light"
     },
     "output_type": "display_data"
    }
   ],
   "source": [
    "plt.plot(epochs, training_loss, label='Training Loss')\n",
    "plt.plot(epochs, val_loss, label='Validation Loss')\n",
    "plt.title('Training and Validation Loss')\n",
    "plt.xlabel('epochs')\n",
    "plt.ylabel('Loss')\n",
    "plt.legend()\n",
    "plt.show()"
   ]
  },
  {
   "cell_type": "code",
   "execution_count": 31,
   "metadata": {},
   "outputs": [
    {
     "name": "stdout",
     "output_type": "stream",
     "text": [
      "Model: \"sequential\"\n",
      "_________________________________________________________________\n",
      "Layer (type)                 Output Shape              Param #   \n",
      "=================================================================\n",
      "dense (Dense)                (None, 700)               7000700   \n",
      "_________________________________________________________________\n",
      "dense_1 (Dense)              (None, 400)               280400    \n",
      "_________________________________________________________________\n",
      "dense_2 (Dense)              (None, 20)                8020      \n",
      "_________________________________________________________________\n",
      "dense_3 (Dense)              (None, 1)                 21        \n",
      "=================================================================\n",
      "Total params: 7,289,141\n",
      "Trainable params: 7,289,141\n",
      "Non-trainable params: 0\n",
      "_________________________________________________________________\n"
     ]
    }
   ],
   "source": [
    "network.summary()"
   ]
  },
  {
   "cell_type": "code",
   "execution_count": 32,
   "metadata": {},
   "outputs": [
    {
     "name": "stdout",
     "output_type": "stream",
     "text": [
      "41/41 [==============================] - 1s 16ms/step - loss: 2.3741e-07 - accuracy: 0.1912\n"
     ]
    },
    {
     "data": {
      "text/plain": [
       "[2.3740754784284945e-07, 0.19121047854423523]"
      ]
     },
     "execution_count": 32,
     "metadata": {},
     "output_type": "execute_result"
    }
   ],
   "source": [
    "network.evaluate(X_test, Y_test)"
   ]
  },
  {
   "cell_type": "code",
   "execution_count": null,
   "metadata": {},
   "outputs": [],
   "source": []
  }
 ],
 "metadata": {
  "kernelspec": {
   "display_name": "Python 3",
   "language": "python",
   "name": "python3"
  },
  "language_info": {
   "codemirror_mode": {
    "name": "ipython",
    "version": 3
   },
   "file_extension": ".py",
   "mimetype": "text/x-python",
   "name": "python",
   "nbconvert_exporter": "python",
   "pygments_lexer": "ipython3",
   "version": "3.8.5"
  }
 },
 "nbformat": 4,
 "nbformat_minor": 4
}
